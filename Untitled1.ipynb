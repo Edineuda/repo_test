{
 "cells": [
  {
   "cell_type": "code",
   "execution_count": 37,
   "metadata": {},
   "outputs": [],
   "source": [
    "import pandas as pd\n",
    "import nltk\n",
    "import re\n",
    "from sklearn.feature_extraction.text import CountVectorizer"
   ]
  },
  {
   "cell_type": "code",
   "execution_count": 50,
   "metadata": {
    "scrolled": true
   },
   "outputs": [],
   "source": [
    "import pandas as pd\n",
    "\n",
    "cabecalho = ['Id','Texto','Sentimento']\n",
    "dadosPositivos = pd.read_csv('https://raw.githubusercontent.com/matheusf06/repo_test/master/dataset-master/positivos.csv', sep=';', index_col = 0, names=cabecalho, encoding='utf-8')"
   ]
  },
  {
   "cell_type": "code",
   "execution_count": 67,
   "metadata": {},
   "outputs": [],
   "source": [
    "dadosNegativos = pd.read_csv('https://raw.githubusercontent.com/matheusf06/repo_test/master/dataset-master/negativos2.csv', sep=',', names=cabecalho, encoding='utf-8')"
   ]
  },
  {
   "cell_type": "code",
   "execution_count": 72,
   "metadata": {
    "scrolled": true
   },
   "outputs": [
    {
     "data": {
      "text/html": [
       "<div>\n",
       "<style scoped>\n",
       "    .dataframe tbody tr th:only-of-type {\n",
       "        vertical-align: middle;\n",
       "    }\n",
       "\n",
       "    .dataframe tbody tr th {\n",
       "        vertical-align: top;\n",
       "    }\n",
       "\n",
       "    .dataframe thead th {\n",
       "        text-align: right;\n",
       "    }\n",
       "</style>\n",
       "<table border=\"1\" class=\"dataframe\">\n",
       "  <thead>\n",
       "    <tr style=\"text-align: right;\">\n",
       "      <th></th>\n",
       "      <th>Id</th>\n",
       "      <th>Sentimento</th>\n",
       "      <th>Texto</th>\n",
       "    </tr>\n",
       "  </thead>\n",
       "  <tbody>\n",
       "    <tr>\n",
       "      <td>id</td>\n",
       "      <td>NaN</td>\n",
       "      <td>sentiment</td>\n",
       "      <td>text</td>\n",
       "    </tr>\n",
       "    <tr>\n",
       "      <td>1</td>\n",
       "      <td>NaN</td>\n",
       "      <td>1</td>\n",
       "      <td>@caprichOreality Fica assim não miga &amp;lt;3 Tud...</td>\n",
       "    </tr>\n",
       "    <tr>\n",
       "      <td>2</td>\n",
       "      <td>NaN</td>\n",
       "      <td>1</td>\n",
       "      <td>Parti me todo a descer a avenida de Gaia com o...</td>\n",
       "    </tr>\n",
       "    <tr>\n",
       "      <td>3</td>\n",
       "      <td>NaN</td>\n",
       "      <td>1</td>\n",
       "      <td>Amanhã é dia de dar um trato na palestra para ...</td>\n",
       "    </tr>\n",
       "    <tr>\n",
       "      <td>4</td>\n",
       "      <td>NaN</td>\n",
       "      <td>1</td>\n",
       "      <td>@thankovsky @patorebaichado eu também tenho :)...</td>\n",
       "    </tr>\n",
       "    <tr>\n",
       "      <td>...</td>\n",
       "      <td>...</td>\n",
       "      <td>...</td>\n",
       "      <td>...</td>\n",
       "    </tr>\n",
       "    <tr>\n",
       "      <td>17198</td>\n",
       "      <td>17439</td>\n",
       "      <td>0</td>\n",
       "      <td>@espinosagozado Então :(</td>\n",
       "    </tr>\n",
       "    <tr>\n",
       "      <td>17199</td>\n",
       "      <td>17440</td>\n",
       "      <td>0</td>\n",
       "      <td>@271CN Sério?! Mas por que? Tem vergonha? :(</td>\n",
       "    </tr>\n",
       "    <tr>\n",
       "      <td>17200</td>\n",
       "      <td>17441</td>\n",
       "      <td>0</td>\n",
       "      <td>Quero meu pirscing nos peitos :(</td>\n",
       "    </tr>\n",
       "    <tr>\n",
       "      <td>17201</td>\n",
       "      <td>17442</td>\n",
       "      <td>0</td>\n",
       "      <td>@lightgrey0 poxa :( gosto mt da nayane a gente...</td>\n",
       "    </tr>\n",
       "    <tr>\n",
       "      <td>17202</td>\n",
       "      <td>17443</td>\n",
       "      <td>0</td>\n",
       "      <td>Só quero poder ver meu namorado. :(</td>\n",
       "    </tr>\n",
       "  </tbody>\n",
       "</table>\n",
       "<p>25913 rows × 3 columns</p>\n",
       "</div>"
      ],
      "text/plain": [
       "          Id Sentimento                                              Texto\n",
       "id       NaN  sentiment                                               text\n",
       "1        NaN          1  @caprichOreality Fica assim não miga &lt;3 Tud...\n",
       "2        NaN          1  Parti me todo a descer a avenida de Gaia com o...\n",
       "3        NaN          1  Amanhã é dia de dar um trato na palestra para ...\n",
       "4        NaN          1  @thankovsky @patorebaichado eu também tenho :)...\n",
       "...      ...        ...                                                ...\n",
       "17198  17439          0                           @espinosagozado Então :(\n",
       "17199  17440          0       @271CN Sério?! Mas por que? Tem vergonha? :(\n",
       "17200  17441          0                   Quero meu pirscing nos peitos :(\n",
       "17201  17442          0  @lightgrey0 poxa :( gosto mt da nayane a gente...\n",
       "17202  17443          0                Só quero poder ver meu namorado. :(\n",
       "\n",
       "[25913 rows x 3 columns]"
      ]
     },
     "execution_count": 72,
     "metadata": {},
     "output_type": "execute_result"
    }
   ],
   "source": [
    "relacao_colunas = {'id':'id', 'text':'text', 'sentiment':'sentiment'}\n",
    "dados = pd.concat([dadosPositivos, dadosNegativos.rename(columns=relacao_colunas)], sort=True)\n",
    "dados"
   ]
  },
  {
   "cell_type": "code",
   "execution_count": null,
   "metadata": {},
   "outputs": [],
   "source": []
  }
 ],
 "metadata": {
  "kernelspec": {
   "display_name": "Python 3",
   "language": "python",
   "name": "python3"
  },
  "language_info": {
   "codemirror_mode": {
    "name": "ipython",
    "version": 3
   },
   "file_extension": ".py",
   "mimetype": "text/x-python",
   "name": "python",
   "nbconvert_exporter": "python",
   "pygments_lexer": "ipython3",
   "version": "3.7.4"
  }
 },
 "nbformat": 4,
 "nbformat_minor": 2
}
